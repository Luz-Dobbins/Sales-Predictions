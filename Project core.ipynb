{
  "nbformat": 4,
  "nbformat_minor": 0,
  "metadata": {
    "colab": {
      "provenance": [],
      "authorship_tag": "ABX9TyPg/dDYefWM5sdEt7pMAL1g",
      "include_colab_link": true
    },
    "kernelspec": {
      "name": "python3",
      "display_name": "Python 3"
    },
    "language_info": {
      "name": "python"
    }
  },
  "cells": [
    {
      "cell_type": "markdown",
      "metadata": {
        "id": "view-in-github",
        "colab_type": "text"
      },
      "source": [
        "<a href=\"https://colab.research.google.com/github/Luz-Dobbins/Sales-Predictions/blob/main/Project%20core.ipynb\" target=\"_parent\"><img src=\"https://colab.research.google.com/assets/colab-badge.svg\" alt=\"Open In Colab\"/></a>"
      ]
    },
    {
      "cell_type": "markdown",
      "source": [
        "# Sales-Predictions\n",
        "\n",
        "Luz Dobbins\n",
        "\n",
        "IN [ ]:\n",
        "\n",
        "\n",
        "\n",
        "\n",
        "\n",
        "\n",
        "\n",
        "\n",
        "\n",
        "\n",
        "\n",
        "\n"
      ],
      "metadata": {
        "id": "dhNEogpsFn6R"
      }
    },
    {
      "cell_type": "markdown",
      "source": [
        "## Loading Data\n",
        "\n",
        "IN [ ]: "
      ],
      "metadata": {
        "id": "OngpZnzBF102"
      }
    },
    {
      "cell_type": "markdown",
      "source": [
        "## Data Cleaning\n",
        "\n",
        "IN [ ]: "
      ],
      "metadata": {
        "id": "a2KY5WslFvMS"
      }
    },
    {
      "cell_type": "markdown",
      "source": [
        "## Exploratory Data\n",
        "\n",
        "IN [ ]:"
      ],
      "metadata": {
        "id": "wesEgpZgF9of"
      }
    },
    {
      "cell_type": "markdown",
      "source": [
        "\n",
        "## Explanatory Data\n",
        "\n",
        "IN [ ]:"
      ],
      "metadata": {
        "id": "Uy9V9-RIF_5R"
      }
    }
  ]
}