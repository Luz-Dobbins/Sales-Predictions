{
  "nbformat": 4,
  "nbformat_minor": 0,
  "metadata": {
    "colab": {
      "provenance": [],
      "authorship_tag": "ABX9TyOuStlnp2/y+11FCbdvzNaj",
      "include_colab_link": true
    },
    "kernelspec": {
      "name": "python3",
      "display_name": "Python 3"
    },
    "language_info": {
      "name": "python"
    }
  },
  "cells": [
    {
      "cell_type": "markdown",
      "metadata": {
        "id": "view-in-github",
        "colab_type": "text"
      },
      "source": [
        "<a href=\"https://colab.research.google.com/github/Luz-Dobbins/Sales-Predictions/blob/main/Project%20core.ipynb\" target=\"_parent\"><img src=\"https://colab.research.google.com/assets/colab-badge.svg\" alt=\"Open In Colab\"/></a>"
      ]
    },
    {
      "cell_type": "markdown",
      "source": [
        "# Sales-Predictions\n",
        "\n",
        "Luz Dobbins\n",
        "\n",
        "In [ ]: \n",
        "> \n",
        "\n",
        "\n",
        "\n",
        "\n",
        "\n",
        "\n",
        "\n",
        "\n",
        "\n"
      ],
      "metadata": {
        "id": "dhNEogpsFn6R"
      }
    },
    {
      "cell_type": "markdown",
      "source": [
        ">"
      ],
      "metadata": {
        "id": "5Mpzu3jvGixI"
      }
    },
    {
      "cell_type": "markdown",
      "source": [
        "## Loading Data\n",
        "\n",
        ">IN []: >>"
      ],
      "metadata": {
        "id": "OngpZnzBF102"
      }
    },
    {
      "cell_type": "markdown",
      "source": [
        ">"
      ],
      "metadata": {
        "id": "wxI2IjmWGkCq"
      }
    },
    {
      "cell_type": "markdown",
      "source": [
        "## Data Cleaning\n",
        "\n",
        "IN [ ]: "
      ],
      "metadata": {
        "id": "a2KY5WslFvMS"
      }
    },
    {
      "cell_type": "markdown",
      "source": [
        ">"
      ],
      "metadata": {
        "id": "IBmQgiOvGmNx"
      }
    },
    {
      "cell_type": "markdown",
      "source": [
        "## Exploratory Data\n",
        "\n",
        "IN [ ]:"
      ],
      "metadata": {
        "id": "wesEgpZgF9of"
      }
    },
    {
      "cell_type": "markdown",
      "source": [
        ">"
      ],
      "metadata": {
        "id": "jRAWSX2JGoA_"
      }
    },
    {
      "cell_type": "markdown",
      "source": [
        "\n",
        "## Explanatory Data\n",
        "\n",
        "IN [ ]:"
      ],
      "metadata": {
        "id": "Uy9V9-RIF_5R"
      }
    },
    {
      "cell_type": "markdown",
      "source": [
        ">"
      ],
      "metadata": {
        "id": "URVpq0h-GsNQ"
      }
    }
  ]
}